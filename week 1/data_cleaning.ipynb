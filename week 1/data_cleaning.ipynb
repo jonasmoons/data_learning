{
 "cells": [
  {
   "cell_type": "markdown",
   "metadata": {},
   "source": [
    "## Data cleaning"
   ]
  },
  {
   "cell_type": "code",
   "execution_count": null,
   "metadata": {},
   "outputs": [],
   "source": []
  },
  {
   "cell_type": "markdown",
   "metadata": {},
   "source": [
    "Data cleaning is something data scientists spend a lot of time on. The problem with teaching data cleaning is that the problems you will face are incredibly diverse. In this Notebook you will just see a few issues. Excellent (much better, to be honest) overviews can be found [here](https://realpython.com/python-data-cleaning-numpy-pandas/) or [here](https://www.tutorialspoint.com/python/python_data_cleansing.htm). This Notebook will contain most information you will need for the first Assignment, however.\n",
    "\n",
    "Let's start with a common situation you might face: you have data that are distributed among two files. I'm using a selection from a data set on [Google Play apps](https://www.kaggle.com/lava18/google-play-store-apps/home). "
   ]
  },
  {
   "cell_type": "code",
   "execution_count": 1,
   "metadata": {},
   "outputs": [
    {
     "data": {
      "text/html": [
       "<div>\n",
       "<style scoped>\n",
       "    .dataframe tbody tr th:only-of-type {\n",
       "        vertical-align: middle;\n",
       "    }\n",
       "\n",
       "    .dataframe tbody tr th {\n",
       "        vertical-align: top;\n",
       "    }\n",
       "\n",
       "    .dataframe thead th {\n",
       "        text-align: right;\n",
       "    }\n",
       "</style>\n",
       "<table border=\"1\" class=\"dataframe\">\n",
       "  <thead>\n",
       "    <tr style=\"text-align: right;\">\n",
       "      <th></th>\n",
       "      <th>app</th>\n",
       "      <th>reviews</th>\n",
       "      <th>rating</th>\n",
       "    </tr>\n",
       "  </thead>\n",
       "  <tbody>\n",
       "    <tr>\n",
       "      <th>0</th>\n",
       "      <td>JailBase - Arrests + Mugshots</td>\n",
       "      <td>17240</td>\n",
       "      <td>NaN</td>\n",
       "    </tr>\n",
       "    <tr>\n",
       "      <th>1</th>\n",
       "      <td>EF Smart English for Phone</td>\n",
       "      <td>208</td>\n",
       "      <td>/</td>\n",
       "    </tr>\n",
       "    <tr>\n",
       "      <th>2</th>\n",
       "      <td>CP Calculator</td>\n",
       "      <td>187</td>\n",
       "      <td>4.1</td>\n",
       "    </tr>\n",
       "    <tr>\n",
       "      <th>3</th>\n",
       "      <td>Workout Tracker &amp; Gym Trainer - Fitness Log Book</td>\n",
       "      <td>5420</td>\n",
       "      <td>4.6</td>\n",
       "    </tr>\n",
       "    <tr>\n",
       "      <th>4</th>\n",
       "      <td>All Language Translator</td>\n",
       "      <td>29944</td>\n",
       "      <td>4</td>\n",
       "    </tr>\n",
       "  </tbody>\n",
       "</table>\n",
       "</div>"
      ],
      "text/plain": [
       "                                                app  reviews rating\n",
       "0                     JailBase - Arrests + Mugshots    17240    NaN\n",
       "1                        EF Smart English for Phone      208      /\n",
       "2                                     CP Calculator      187    4.1\n",
       "3  Workout Tracker & Gym Trainer - Fitness Log Book     5420    4.6\n",
       "4                           All Language Translator    29944      4"
      ]
     },
     "execution_count": 1,
     "metadata": {},
     "output_type": "execute_result"
    }
   ],
   "source": [
    "import seaborn as sns #this is the plotting library I'll be using \n",
    "import pandas as pd #\"as pd\" means that we can use the abbreviation in commands\n",
    "import matplotlib.pyplot as plt #we need Matplotlib for setting the labels in the Seaborn graphs\n",
    "\n",
    "df1 = pd.read_csv('googleplay_part1.csv')\n",
    "df1.head()\n"
   ]
  },
  {
   "cell_type": "code",
   "execution_count": 2,
   "metadata": {},
   "outputs": [
    {
     "data": {
      "text/html": [
       "<div>\n",
       "<style scoped>\n",
       "    .dataframe tbody tr th:only-of-type {\n",
       "        vertical-align: middle;\n",
       "    }\n",
       "\n",
       "    .dataframe tbody tr th {\n",
       "        vertical-align: top;\n",
       "    }\n",
       "\n",
       "    .dataframe thead th {\n",
       "        text-align: right;\n",
       "    }\n",
       "</style>\n",
       "<table border=\"1\" class=\"dataframe\">\n",
       "  <thead>\n",
       "    <tr style=\"text-align: right;\">\n",
       "      <th></th>\n",
       "      <th>app</th>\n",
       "      <th>size</th>\n",
       "      <th>price</th>\n",
       "    </tr>\n",
       "  </thead>\n",
       "  <tbody>\n",
       "    <tr>\n",
       "      <th>0</th>\n",
       "      <td>JailBase - Arrests + Mugshots</td>\n",
       "      <td>NaN</td>\n",
       "      <td>0.0</td>\n",
       "    </tr>\n",
       "    <tr>\n",
       "      <th>1</th>\n",
       "      <td>EF Smart English for Phone</td>\n",
       "      <td>13.0</td>\n",
       "      <td>0.0</td>\n",
       "    </tr>\n",
       "    <tr>\n",
       "      <th>2</th>\n",
       "      <td>CP Calculator</td>\n",
       "      <td>2.9</td>\n",
       "      <td>0.0</td>\n",
       "    </tr>\n",
       "    <tr>\n",
       "      <th>3</th>\n",
       "      <td>Workout Tracker &amp; Gym Trainer - Fitness Log Book</td>\n",
       "      <td>21.0</td>\n",
       "      <td>0.0</td>\n",
       "    </tr>\n",
       "    <tr>\n",
       "      <th>4</th>\n",
       "      <td>All Language Translator</td>\n",
       "      <td>2.1</td>\n",
       "      <td>0.0</td>\n",
       "    </tr>\n",
       "  </tbody>\n",
       "</table>\n",
       "</div>"
      ],
      "text/plain": [
       "                                                app  size  price\n",
       "0                     JailBase - Arrests + Mugshots   NaN    0.0\n",
       "1                        EF Smart English for Phone  13.0    0.0\n",
       "2                                     CP Calculator   2.9    0.0\n",
       "3  Workout Tracker & Gym Trainer - Fitness Log Book  21.0    0.0\n",
       "4                           All Language Translator   2.1    0.0"
      ]
     },
     "execution_count": 2,
     "metadata": {},
     "output_type": "execute_result"
    }
   ],
   "source": [
    "df2 = pd.read_csv('googleplay_part2.csv')\n",
    "df2.head()"
   ]
  },
  {
   "cell_type": "markdown",
   "metadata": {},
   "source": [
    "As we can see, the two files share an identifier variable, *app*. You can join two dataframes using the Pandas `merge` function."
   ]
  },
  {
   "cell_type": "code",
   "execution_count": 3,
   "metadata": {},
   "outputs": [
    {
     "data": {
      "text/html": [
       "<div>\n",
       "<style scoped>\n",
       "    .dataframe tbody tr th:only-of-type {\n",
       "        vertical-align: middle;\n",
       "    }\n",
       "\n",
       "    .dataframe tbody tr th {\n",
       "        vertical-align: top;\n",
       "    }\n",
       "\n",
       "    .dataframe thead th {\n",
       "        text-align: right;\n",
       "    }\n",
       "</style>\n",
       "<table border=\"1\" class=\"dataframe\">\n",
       "  <thead>\n",
       "    <tr style=\"text-align: right;\">\n",
       "      <th></th>\n",
       "      <th>app</th>\n",
       "      <th>reviews</th>\n",
       "      <th>rating</th>\n",
       "      <th>size</th>\n",
       "      <th>price</th>\n",
       "    </tr>\n",
       "  </thead>\n",
       "  <tbody>\n",
       "    <tr>\n",
       "      <th>0</th>\n",
       "      <td>JailBase - Arrests + Mugshots</td>\n",
       "      <td>17240</td>\n",
       "      <td>NaN</td>\n",
       "      <td>NaN</td>\n",
       "      <td>0.0</td>\n",
       "    </tr>\n",
       "    <tr>\n",
       "      <th>1</th>\n",
       "      <td>EF Smart English for Phone</td>\n",
       "      <td>208</td>\n",
       "      <td>/</td>\n",
       "      <td>13.0</td>\n",
       "      <td>0.0</td>\n",
       "    </tr>\n",
       "    <tr>\n",
       "      <th>2</th>\n",
       "      <td>CP Calculator</td>\n",
       "      <td>187</td>\n",
       "      <td>4.1</td>\n",
       "      <td>2.9</td>\n",
       "      <td>0.0</td>\n",
       "    </tr>\n",
       "    <tr>\n",
       "      <th>3</th>\n",
       "      <td>Workout Tracker &amp; Gym Trainer - Fitness Log Book</td>\n",
       "      <td>5420</td>\n",
       "      <td>4.6</td>\n",
       "      <td>21.0</td>\n",
       "      <td>0.0</td>\n",
       "    </tr>\n",
       "    <tr>\n",
       "      <th>4</th>\n",
       "      <td>All Language Translator</td>\n",
       "      <td>29944</td>\n",
       "      <td>4</td>\n",
       "      <td>2.1</td>\n",
       "      <td>0.0</td>\n",
       "    </tr>\n",
       "  </tbody>\n",
       "</table>\n",
       "</div>"
      ],
      "text/plain": [
       "                                                app  reviews rating  size  \\\n",
       "0                     JailBase - Arrests + Mugshots    17240    NaN   NaN   \n",
       "1                        EF Smart English for Phone      208      /  13.0   \n",
       "2                                     CP Calculator      187    4.1   2.9   \n",
       "3  Workout Tracker & Gym Trainer - Fitness Log Book     5420    4.6  21.0   \n",
       "4                           All Language Translator    29944      4   2.1   \n",
       "\n",
       "   price  \n",
       "0    0.0  \n",
       "1    0.0  \n",
       "2    0.0  \n",
       "3    0.0  \n",
       "4    0.0  "
      ]
     },
     "execution_count": 3,
     "metadata": {},
     "output_type": "execute_result"
    }
   ],
   "source": [
    "df = pd.merge(df1, df2, on = 'app') #'app' is the common identifier\n",
    "df.head()"
   ]
  },
  {
   "cell_type": "markdown",
   "metadata": {},
   "source": [
    "Some problems are already apparent with this small snapshot of the data: missing values (NaN) and a possible data entry error (\"/\" for the rating for case 1). However, with big data files we will need to validate our data a lot better. There are a few functions that are handy to get a grip on the data."
   ]
  },
  {
   "cell_type": "code",
   "execution_count": 4,
   "metadata": {},
   "outputs": [
    {
     "name": "stdout",
     "output_type": "stream",
     "text": [
      "<class 'pandas.core.frame.DataFrame'>\n",
      "Int64Index: 499 entries, 0 to 498\n",
      "Data columns (total 5 columns):\n",
      "app        499 non-null object\n",
      "reviews    499 non-null int64\n",
      "rating     420 non-null object\n",
      "size       424 non-null float64\n",
      "price      499 non-null float64\n",
      "dtypes: float64(2), int64(1), object(2)\n",
      "memory usage: 23.4+ KB\n"
     ]
    }
   ],
   "source": [
    "df.info() #Get information on the variables"
   ]
  },
  {
   "cell_type": "markdown",
   "metadata": {},
   "source": [
    "It is already apparent that `reviews`, and `ratings` are not numeric, though they should be given the nature of the data. Let's focus on ratings and try to clean that variable"
   ]
  },
  {
   "cell_type": "code",
   "execution_count": 5,
   "metadata": {},
   "outputs": [
    {
     "data": {
      "text/plain": [
       "4.4    48\n",
       "4.2    44\n",
       "4.3    44\n",
       "4.5    42\n",
       "4.6    36\n",
       "4.7    34\n",
       "4.1    33\n",
       "4      31\n",
       "3.9    17\n",
       "5      15\n",
       "3.8    12\n",
       "3.7     8\n",
       "4.8     8\n",
       "3.6     6\n",
       "3.5     6\n",
       "3.4     5\n",
       "4.9     5\n",
       "3.3     4\n",
       "2.9     3\n",
       "3.1     3\n",
       "1.9     2\n",
       "3.2     2\n",
       "3       2\n",
       "1       2\n",
       "5.3     1\n",
       "2.2     1\n",
       "1.6     1\n",
       "5.9     1\n",
       "2.1     1\n",
       "2.5     1\n",
       "/       1\n",
       "2.7     1\n",
       "Name: rating, dtype: int64"
      ]
     },
     "execution_count": 5,
     "metadata": {},
     "output_type": "execute_result"
    }
   ],
   "source": [
    "df['rating'].value_counts() #Get all the values. This may be less useful when there are many values."
   ]
  },
  {
   "cell_type": "markdown",
   "metadata": {},
   "source": [
    "There are three values that are problematic: the \"/\" we already discovered, and two ratings that are above 5.0. Let's create a new column that excludes them."
   ]
  },
  {
   "cell_type": "code",
   "execution_count": 6,
   "metadata": {},
   "outputs": [],
   "source": [
    "# The handy Pandas function to_numeric converts non-numeric data to NaN. The last argument overrides the errors\n",
    "# Python would normally generate.\n",
    "# The apply method of a dataframe lets us apply a function to all the elements.\n",
    "df['rating'] = df['rating'].apply(pd.to_numeric, errors='coerce')\n",
    "\n",
    "#To remove the values above 5 we need to create a function that we then apply to the entire column\n",
    "def above_5(x):\n",
    "    if(x > 5.0): \n",
    "        return float('NaN')\n",
    "    else: \n",
    "        return x\n",
    "df['rating'] = df['rating'].apply(above_5)\n"
   ]
  },
  {
   "cell_type": "markdown",
   "metadata": {},
   "source": [
    "Finally, we can make a plot of ratings:"
   ]
  },
  {
   "cell_type": "code",
   "execution_count": 7,
   "metadata": {},
   "outputs": [
    {
     "data": {
      "image/png": "[encoded data removed]",
      "text/plain": [
       "<matplotlib.figure.Figure at 0x20c280939e8>"
      ]
     },
     "metadata": {
      "needs_background": "light"
     },
     "output_type": "display_data"
    }
   ],
   "source": [
    "sns.distplot(df['rating'].dropna(), kde=False) #Selecting the rating column. I need to drop the NA's for the plot\n",
    "plt.title('Rating of Google Play apps')\n",
    "plt.xlabel('Rating (stars)')\n",
    "plt.show()"
   ]
  },
  {
   "cell_type": "markdown",
   "metadata": {},
   "source": [
    "This might seem like a lot of work that could be done much more easily in something like Excel. But there are  advantages going \"the hard way\":\n",
    "\n",
    "* Your analysis is reproducible: everything is transparent, no fear of losing track of your steps.\n",
    "* It works on very big data sets too.\n"
   ]
  }
 ],
 "metadata": {
  "kernelspec": {
   "display_name": "Python 3",
   "language": "python",
   "name": "python3"
  },
  "language_info": {
   "codemirror_mode": {
    "name": "ipython",
    "version": 3
   },
   "file_extension": ".py",
   "mimetype": "text/x-python",
   "name": "python",
   "nbconvert_exporter": "python",
   "pygments_lexer": "ipython3",
   "version": "3.6.4"
  }
 },
 "nbformat": 4,
 "nbformat_minor": 2
}
